{
 "cells": [
  {
   "cell_type": "code",
   "execution_count": 54,
   "metadata": {},
   "outputs": [],
   "source": [
    "def user_choice():\n",
    "    #initial choice\n",
    "    choice = ''\n",
    "    acceptable_range = range(0, 10)\n",
    "    within_range = False\n",
    "\n",
    "    while not choice.isdigit() or not within_range:\n",
    "        choice = input(\"Enter a number between 1 and 10\")\n",
    "        if not choice.isdigit() :\n",
    "            print (\"Not a digit Please enter a valid number between 1 and 10\")\n",
    "        if choice.isdigit(): \n",
    "            if int(choice)  in acceptable_range:\n",
    "                within_range = True\n",
    "            else:\n",
    "                within_range = False\n",
    "                print (\"Not within range. Please enter a valid number between 1 and 10\")\n",
    "    \n",
    "    return int(choice)"
   ]
  },
  {
   "cell_type": "code",
   "execution_count": 55,
   "metadata": {},
   "outputs": [
    {
     "name": "stdout",
     "output_type": "stream",
     "text": [
      "Not a digit Please enter a valid number between 1 and 10\n",
      "Not within range. Please enter a valid number between 1 and 10\n",
      "Not a digit Please enter a valid number between 1 and 10\n",
      "Not within range. Please enter a valid number between 1 and 10\n"
     ]
    },
    {
     "data": {
      "text/plain": [
       "3"
      ]
     },
     "execution_count": 55,
     "metadata": {},
     "output_type": "execute_result"
    }
   ],
   "source": [
    "user_choice()\n",
    "\n"
   ]
  },
  {
   "cell_type": "code",
   "execution_count": null,
   "metadata": {},
   "outputs": [],
   "source": []
  },
  {
   "cell_type": "code",
   "execution_count": null,
   "metadata": {},
   "outputs": [],
   "source": []
  }
 ],
 "metadata": {
  "kernelspec": {
   "display_name": "Python 3",
   "language": "python",
   "name": "python3"
  },
  "language_info": {
   "codemirror_mode": {
    "name": "ipython",
    "version": 3
   },
   "file_extension": ".py",
   "mimetype": "text/x-python",
   "name": "python",
   "nbconvert_exporter": "python",
   "pygments_lexer": "ipython3",
   "version": "3.12.3"
  }
 },
 "nbformat": 4,
 "nbformat_minor": 2
}
