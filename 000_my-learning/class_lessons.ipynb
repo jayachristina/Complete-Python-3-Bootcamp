{
 "cells": [
  {
   "cell_type": "code",
   "execution_count": 11,
   "metadata": {},
   "outputs": [
    {
     "name": "stdout",
     "output_type": "stream",
     "text": [
      "3.14\n",
      "Circumference: 12.56\n",
      "Area: 12.56\n"
     ]
    }
   ],
   "source": [
    "class Circle():\n",
    "    \n",
    "    pi = 3.14\n",
    "    def __init__(self,radius=1):\n",
    "        self.radius = radius\n",
    "        self.area = Circle.pi * (self.radius ** 2)\n",
    "\n",
    "    \n",
    "    def get_circumference (self):\n",
    "        return self.radius * Circle.pi * 2\n",
    "\n",
    "\n",
    "\n",
    "my_circle = Circle(2)\n",
    "print(my_circle.pi)\n",
    "print (\"Circumference:\", my_circle.get_circumference())\n",
    "print (\"Area:\", my_circle.area)"
   ]
  },
  {
   "cell_type": "code",
   "execution_count": 62,
   "metadata": {},
   "outputs": [
    {
     "name": "stdout",
     "output_type": "stream",
     "text": [
      "Animal created\n",
      "Dog created\n",
      "I am eating\n",
      "I am a dog\n",
      "WOOF!\n"
     ]
    }
   ],
   "source": [
    "class Animal():\n",
    "    def __init__(self):\n",
    "        print(\"Animal created\")\n",
    "\n",
    "    def who_ami_i(self):\n",
    "        print(\"I am an animal\")\n",
    "\n",
    "    def eat(self):\n",
    "        print(\"I am eating\")\n",
    "    \n",
    "class Dog(Animal):\n",
    "    def __init__(self,breed):\n",
    "        Animal.__init__(self)\n",
    "        self.breed = breed\n",
    "        print(\"Dog created\")\n",
    "\n",
    "    def who_ami_i(self):\n",
    "        print(\"I am a dog\")\n",
    "        \n",
    "    def bark(self):\n",
    "        print(\"WOOF!\")\n",
    "        \n",
    "\n",
    "#my_animal = Animal()\n",
    "my_dog = Dog(\"GS\")\n",
    "my_dog.eat()\n",
    "my_dog.who_ami_i()\n",
    "my_dog.bark()\n"
   ]
  },
  {
   "cell_type": "markdown",
   "metadata": {},
   "source": [
    "# Polymorphism"
   ]
  },
  {
   "cell_type": "code",
   "execution_count": 65,
   "metadata": {},
   "outputs": [],
   "source": [
    "class Animal():\n",
    "    def __init__(self, name):\n",
    "        self.name = name\n",
    "    \n",
    "    def speak(self):\n",
    "        raise NotImplementedError(\"Subclasses must implement this abstract method\")\n",
    "\n",
    "class Dog(Animal):\n",
    "    def __init__(self,name):\n",
    "        self.name = name\n",
    "\n",
    "    def speak(self):\n",
    "        print(self.name + \" says WOOF!\")\n",
    "\n",
    "class Cat():\n",
    "    def __init__(self,name):\n",
    "        self.name = name\n",
    "\n",
    "    def speak(self):\n",
    "        print(self.name + \" says MEOW!\")\n",
    "\n",
    "\n",
    "def pet_speak(pet) :\n",
    "    pet.speak()\n",
    "\n"
   ]
  },
  {
   "cell_type": "code",
   "execution_count": 66,
   "metadata": {},
   "outputs": [
    {
     "name": "stdout",
     "output_type": "stream",
     "text": [
      "niko says WOOF!\n",
      "niki says MEOW!\n",
      "niki says MEOW!\n"
     ]
    }
   ],
   "source": [
    "# myanimal = Animal(\"hero\")\n",
    "# myanimal.speak()\n",
    "\n",
    "mydog = Dog(\"niko\")\n",
    "mydog.speak()\n",
    "\n",
    "mycat = Cat(\"niki\")\n",
    "mycat.speak()\n",
    "\n",
    "# for pet in (mydog, mycat):\n",
    "#     pet_speak(pet)\n",
    "\n",
    "\n",
    "pet_speak(mycat)"
   ]
  },
  {
   "cell_type": "markdown",
   "metadata": {},
   "source": [
    "# special methods"
   ]
  },
  {
   "cell_type": "code",
   "execution_count": 85,
   "metadata": {},
   "outputs": [
    {
     "name": "stdout",
     "output_type": "stream",
     "text": [
      "Rocks by JC and has 200 pages\n",
      "Rocks by JC and has 200 pages\n",
      "200\n"
     ]
    }
   ],
   "source": [
    "class Book():\n",
    "    def __init__(self, title, author,pages ):\n",
    "        self.title = title\n",
    "        self.author = author\n",
    "        self.pages = pages\n",
    "    \n",
    "    def __str__(self):\n",
    "        return f\"{self.title} by {self.author} and has {self.pages} pages\"\n",
    "\n",
    "    def __len__(self):\n",
    "        return self.pages\n",
    "\n",
    "    def __del__(self):\n",
    "        return \"A book object has been deleted\"\n",
    "\n",
    "b = Book(\"Rocks\", \"JC\", 200)\n",
    "print(b)\n",
    "print(str(b))\n",
    "print(len(b))\n",
    "\n"
   ]
  },
  {
   "cell_type": "code",
   "execution_count": 86,
   "metadata": {},
   "outputs": [
    {
     "name": "stdout",
     "output_type": "stream",
     "text": [
      "Rocks by JC and has 200 pages\n"
     ]
    },
    {
     "ename": "NameError",
     "evalue": "name 'b' is not defined",
     "output_type": "error",
     "traceback": [
      "\u001b[0;31m---------------------------------------------------------------------------\u001b[0m",
      "\u001b[0;31mNameError\u001b[0m                                 Traceback (most recent call last)",
      "Cell \u001b[0;32mIn[86], line 3\u001b[0m\n\u001b[1;32m      1\u001b[0m \u001b[38;5;28mprint\u001b[39m(b)\n\u001b[1;32m      2\u001b[0m \u001b[38;5;28;01mdel\u001b[39;00m b\n\u001b[0;32m----> 3\u001b[0m \u001b[38;5;28mprint\u001b[39m(\u001b[43mb\u001b[49m)\n",
      "\u001b[0;31mNameError\u001b[0m: name 'b' is not defined"
     ]
    }
   ],
   "source": [
    "print(b)\n",
    "del b\n",
    "print(b)"
   ]
  }
 ],
 "metadata": {
  "kernelspec": {
   "display_name": "Python 3",
   "language": "python",
   "name": "python3"
  },
  "language_info": {
   "codemirror_mode": {
    "name": "ipython",
    "version": 3
   },
   "file_extension": ".py",
   "mimetype": "text/x-python",
   "name": "python",
   "nbconvert_exporter": "python",
   "pygments_lexer": "ipython3",
   "version": "3.12.3"
  }
 },
 "nbformat": 4,
 "nbformat_minor": 2
}
