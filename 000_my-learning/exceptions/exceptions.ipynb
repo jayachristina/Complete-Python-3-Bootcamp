{
 "cells": [
  {
   "cell_type": "code",
   "execution_count": 1,
   "metadata": {},
   "outputs": [
    {
     "name": "stdout",
     "output_type": "stream",
     "text": [
      "pl check the input. doesn't seem correct\n",
      "all's well that ends well\n"
     ]
    }
   ],
   "source": [
    "try:\n",
    "    result = print(\"10\" + 19)\n",
    "except:\n",
    "    print(\"pl check the input. doesn't seem correct\")\n",
    "else:\n",
    "    print(\"all well\")\n",
    "    print(result)\n",
    "finally:\n",
    "    print(\"all's well that ends well\")\n",
    "    "
   ]
  },
  {
   "cell_type": "code",
   "execution_count": 15,
   "metadata": {},
   "outputs": [
    {
     "name": "stdout",
     "output_type": "stream",
     "text": [
      "OSError\n",
      "file close\n"
     ]
    },
    {
     "name": "stderr",
     "output_type": "stream",
     "text": [
      "Traceback (most recent call last):\n",
      "  File \"/var/folders/nv/6l5661dn2xd6b6_l4pghn1d00000gn/T/ipykernel_33380/414785250.py\", line 5, in <module>\n",
      "    f.write(\"Test line\")\n",
      "io.UnsupportedOperation: not writable\n"
     ]
    },
    {
     "ename": "TypeError",
     "evalue": "cannot unpack non-iterable NoneType object",
     "output_type": "error",
     "traceback": [
      "\u001b[0;31m---------------------------------------------------------------------------\u001b[0m",
      "\u001b[0;31mUnsupportedOperation\u001b[0m                      Traceback (most recent call last)",
      "Cell \u001b[0;32mIn[15], line 5\u001b[0m\n\u001b[1;32m      4\u001b[0m     f \u001b[38;5;241m=\u001b[39m \u001b[38;5;28mopen\u001b[39m(\u001b[38;5;124m'\u001b[39m\u001b[38;5;124mtestfile\u001b[39m\u001b[38;5;124m'\u001b[39m, \u001b[38;5;124m'\u001b[39m\u001b[38;5;124mr\u001b[39m\u001b[38;5;124m'\u001b[39m)\n\u001b[0;32m----> 5\u001b[0m     \u001b[43mf\u001b[49m\u001b[38;5;241;43m.\u001b[39;49m\u001b[43mwrite\u001b[49m\u001b[43m(\u001b[49m\u001b[38;5;124;43m\"\u001b[39;49m\u001b[38;5;124;43mTest line\u001b[39;49m\u001b[38;5;124;43m\"\u001b[39;49m\u001b[43m)\u001b[49m\n\u001b[1;32m      6\u001b[0m \u001b[38;5;28;01mexcept\u001b[39;00m \u001b[38;5;167;01mTypeError\u001b[39;00m:\n",
      "\u001b[0;31mUnsupportedOperation\u001b[0m: not writable",
      "\nDuring handling of the above exception, another exception occurred:\n",
      "\u001b[0;31mTypeError\u001b[0m                                 Traceback (most recent call last)",
      "Cell \u001b[0;32mIn[15], line 10\u001b[0m\n\u001b[1;32m      8\u001b[0m \u001b[38;5;28;01mexcept\u001b[39;00m \u001b[38;5;167;01mOSError\u001b[39;00m:\n\u001b[1;32m      9\u001b[0m     \u001b[38;5;28mprint\u001b[39m(\u001b[38;5;124m\"\u001b[39m\u001b[38;5;124mOSError\u001b[39m\u001b[38;5;124m\"\u001b[39m)\n\u001b[0;32m---> 10\u001b[0m     \u001b[38;5;28mtype\u001b[39m, value, traceback \u001b[38;5;241m=\u001b[39m traceback\u001b[38;5;241m.\u001b[39mprint_exc()\n\u001b[1;32m     11\u001b[0m     \u001b[38;5;28mprint\u001b[39m(\u001b[38;5;124m'\u001b[39m\u001b[38;5;124mError opening \u001b[39m\u001b[38;5;132;01m%s\u001b[39;00m\u001b[38;5;124m: \u001b[39m\u001b[38;5;132;01m%s\u001b[39;00m\u001b[38;5;124m'\u001b[39m \u001b[38;5;241m%\u001b[39m (value\u001b[38;5;241m.\u001b[39mfilename, value\u001b[38;5;241m.\u001b[39mstrerror))\n\u001b[1;32m     12\u001b[0m     \u001b[38;5;66;03m#traceback.print_exc()\u001b[39;00m\n",
      "\u001b[0;31mTypeError\u001b[0m: cannot unpack non-iterable NoneType object"
     ]
    }
   ],
   "source": [
    "import sys, traceback\n",
    "\n",
    "try:\n",
    "    f = open('testfile', 'r')\n",
    "    f.write(\"Test line\")\n",
    "except TypeError:\n",
    "    print (\"TypeError\")\n",
    "except OSError:\n",
    "    print(\"OSError\")\n",
    "    type, value, traceback = traceback.print_exc()\n",
    "    print('Error opening %s: %s' % (value.filename, value.strerror))\n",
    "    #traceback.print_exc()\n",
    "\n",
    "\n",
    "except:\n",
    "    print(\"All other exceptions\")\n",
    "\n",
    "finally:\n",
    "    f.close()\n",
    "    print(\"file close\")\n"
   ]
  }
 ],
 "metadata": {
  "kernelspec": {
   "display_name": "Python 3",
   "language": "python",
   "name": "python3"
  },
  "language_info": {
   "codemirror_mode": {
    "name": "ipython",
    "version": 3
   },
   "file_extension": ".py",
   "mimetype": "text/x-python",
   "name": "python",
   "nbconvert_exporter": "python",
   "pygments_lexer": "ipython3",
   "version": "3.12.3"
  }
 },
 "nbformat": 4,
 "nbformat_minor": 2
}
