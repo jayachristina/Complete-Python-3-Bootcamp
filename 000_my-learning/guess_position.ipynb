{
 "cells": [
  {
   "cell_type": "code",
   "execution_count": 14,
   "metadata": {},
   "outputs": [
    {
     "name": "stdout",
     "output_type": "stream",
     "text": [
      "guess 1\n",
      "Correct guess\n"
     ]
    }
   ],
   "source": [
    "from random  import shuffle\n",
    "\n",
    "\n",
    "\n",
    "def shuffle_list(input_list):\n",
    "    shuffle(input_list)\n",
    "    return input_list\n",
    "\n",
    "def player_guess():\n",
    "    guess = ''\n",
    "    while guess not in ['0','1','2']:\n",
    "        guess = input(\"Input your guess as 0, 1 or 2\")\n",
    "    print(\"guess\", guess)        \n",
    "    return int(guess)\n",
    "\n",
    "def check_guess(input_list, guess):\n",
    "    if input_list[guess] == '0':\n",
    "        print('Correct guess')\n",
    "    else:\n",
    "        print(\"Wrong guess. Correct position is\", input_list)\n",
    "\n",
    "input_list = [' ', '0', ' ']\n",
    "check_guess(shuffle_list(input_list), player_guess() )\n",
    "\n"
   ]
  }
 ],
 "metadata": {
  "kernelspec": {
   "display_name": "Python 3",
   "language": "python",
   "name": "python3"
  },
  "language_info": {
   "codemirror_mode": {
    "name": "ipython",
    "version": 3
   },
   "file_extension": ".py",
   "mimetype": "text/x-python",
   "name": "python",
   "nbconvert_exporter": "python",
   "pygments_lexer": "ipython3",
   "version": "3.12.3"
  }
 },
 "nbformat": 4,
 "nbformat_minor": 2
}
