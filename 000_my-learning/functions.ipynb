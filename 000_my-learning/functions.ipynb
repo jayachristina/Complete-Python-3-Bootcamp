{
 "cells": [
  {
   "cell_type": "markdown",
   "metadata": {},
   "source": [
    "# Functions"
   ]
  },
  {
   "cell_type": "code",
   "execution_count": 9,
   "metadata": {},
   "outputs": [
    {
     "name": "stdout",
     "output_type": "stream",
     "text": [
      "hello jaya\n",
      "hello World\n"
     ]
    }
   ],
   "source": [
    "def say_hello(name = 'World'):\n",
    "    print(f\"hello {name}\")\n",
    "\n",
    "say_hello(\"jaya\")\n",
    "say_hello()"
   ]
  },
  {
   "cell_type": "code",
   "execution_count": 13,
   "metadata": {},
   "outputs": [
    {
     "name": "stdout",
     "output_type": "stream",
     "text": [
      "Result is 30\n"
     ]
    }
   ],
   "source": [
    "def add_num(num1, num2):\n",
    "    return num1 + num2\n",
    "\n",
    "result = add_num(10,20)\n",
    "print(f\"Result is {result}\")"
   ]
  },
  {
   "cell_type": "code",
   "execution_count": 20,
   "metadata": {},
   "outputs": [
    {
     "data": {
      "text/plain": [
       "False"
      ]
     },
     "execution_count": 20,
     "metadata": {},
     "output_type": "execute_result"
    }
   ],
   "source": [
    "def even_check(num):\n",
    "    result = num % 2 ==0\n",
    "    return result\n",
    "\n",
    "even_check(21)"
   ]
  },
  {
   "cell_type": "code",
   "execution_count": 29,
   "metadata": {},
   "outputs": [
    {
     "name": "stdout",
     "output_type": "stream",
     "text": [
      "[2, 4, 6]\n"
     ]
    }
   ],
   "source": [
    "# return true if any number is even in a list\n",
    "\n",
    "def check_even_list(numlist):\n",
    "    even_numbers = []\n",
    "    for num in numlist:\n",
    "        if num % 2 == 0:\n",
    "            even_numbers.append(num)\n",
    "        else:\n",
    "            pass\n",
    "    return even_numbers\n",
    "        \n",
    "\n",
    "mylist = [1,3,5,2,4,6]\n",
    "print(check_even_list(mylist))"
   ]
  },
  {
   "cell_type": "markdown",
   "metadata": {},
   "source": [
    "# Tuples unpacking"
   ]
  },
  {
   "cell_type": "code",
   "execution_count": 39,
   "metadata": {},
   "outputs": [
    {
     "name": "stdout",
     "output_type": "stream",
     "text": [
      "apple\n",
      "220.0\n",
      "ibm\n",
      "440.0\n",
      "google\n",
      "330.0\n"
     ]
    }
   ],
   "source": [
    "stock_prices = [{'apple', 200}, {'ibm', 400} , {'google', 300} ]\n",
    "for ticker, price in stock_prices:\n",
    "    print (ticker )\n",
    "    print (price + (0.1*price))\n",
    "\n"
   ]
  },
  {
   "cell_type": "code",
   "execution_count": 47,
   "metadata": {},
   "outputs": [
    {
     "name": "stdout",
     "output_type": "stream",
     "text": [
      "Zue won with hours 300\n"
     ]
    }
   ],
   "source": [
    "def employee_check (work_hours):\n",
    "    current_max = 0\n",
    "    emp_of_month = ''\n",
    "\n",
    "    for employee, hours in work_hours:\n",
    "        if(hours > current_max):\n",
    "            current_max = hours\n",
    "            emp_of_month = employee\n",
    "        else:\n",
    "            pass\n",
    "    return(emp_of_month, current_max)\n",
    "\n",
    "\n",
    "work_hours = [('Hue', 100),('Yeu', 200),('Zue', 300)]\n",
    "name, hours = employee_check(work_hours)\n",
    "print(f\"{name} won with hours {hours}\")\n"
   ]
  },
  {
   "cell_type": "markdown",
   "metadata": {},
   "source": [
    "# args and kwargs"
   ]
  },
  {
   "cell_type": "code",
   "execution_count": 51,
   "metadata": {},
   "outputs": [
    {
     "data": {
      "text/plain": [
       "1740.1000000000001"
      ]
     },
     "execution_count": 51,
     "metadata": {},
     "output_type": "execute_result"
    }
   ],
   "source": [
    "def myfunc(*args):\n",
    "    return sum(args) * 0.05\n",
    "\n",
    "myfunc(40, 60, 34234,234,234)\n"
   ]
  },
  {
   "cell_type": "code",
   "execution_count": 54,
   "metadata": {},
   "outputs": [
    {
     "name": "stdout",
     "output_type": "stream",
     "text": [
      "{'fruit': 'apple', 'veggies': 'okra'}\n",
      "My fruit of choice apple\n"
     ]
    }
   ],
   "source": [
    "#kwargs - keyword args\n",
    "\n",
    "def myfunc(**kwargs):\n",
    "    print(kwargs)\n",
    "    if 'fruit' in kwargs:\n",
    "        print('My fruit of choice {}'.format(kwargs['fruit']))\n",
    "    else:\n",
    "        print('I did not find my fruit here')\n",
    "\n",
    "myfunc(fruit='apple', veggies='okra')"
   ]
  },
  {
   "cell_type": "code",
   "execution_count": 60,
   "metadata": {},
   "outputs": [
    {
     "name": "stdout",
     "output_type": "stream",
     "text": [
      "(10, 20, 40)\n",
      "{'fruit': 'apple', 'veggies': 'okra'}\n",
      "I want 10  apple\n"
     ]
    }
   ],
   "source": [
    "#kwargs - keyword args\n",
    "\n",
    "def myfunc(*args, **kwargs):\n",
    "    print(args)\n",
    "    print(kwargs)\n",
    "    print('I want {}  {}'.format(args[0],kwargs['fruit']))\n",
    "    \n",
    "\n",
    "myfunc(10,20,40, fruit='apple', veggies='okra')\n"
   ]
  },
  {
   "cell_type": "code",
   "execution_count": null,
   "metadata": {},
   "outputs": [],
   "source": []
  }
 ],
 "metadata": {
  "kernelspec": {
   "display_name": "Python 3",
   "language": "python",
   "name": "python3"
  },
  "language_info": {
   "codemirror_mode": {
    "name": "ipython",
    "version": 3
   },
   "file_extension": ".py",
   "mimetype": "text/x-python",
   "name": "python",
   "nbconvert_exporter": "python",
   "pygments_lexer": "ipython3",
   "version": "3.12.3"
  }
 },
 "nbformat": 4,
 "nbformat_minor": 2
}
